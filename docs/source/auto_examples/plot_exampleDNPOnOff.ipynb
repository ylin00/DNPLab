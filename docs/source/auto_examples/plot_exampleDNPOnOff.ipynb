{
  "cells": [
    {
      "cell_type": "code",
      "execution_count": null,
      "metadata": {
        "collapsed": false
      },
      "outputs": [],
      "source": [
        "%matplotlib inline"
      ]
    },
    {
      "cell_type": "markdown",
      "metadata": {},
      "source": [
        "\n# 01 - Microwave On/Off Signal\n\nThis first example demonstrates how to import two NMR spectra, one recorded with a microwave power of 0 W (off-signal) and one with a microwave power of 2 W (on-signal). The spectra are recorded using a Magritek Kea system.\n\nThe example script has three different sections:\n\n#. Script header\n#. Import and Process Off-Signal\n#. Import and Process On-Signal\n#. Create a Figure and Plot On/Off Spectra\n"
      ]
    },
    {
      "cell_type": "markdown",
      "metadata": {},
      "source": [
        "## Script Header\n\nEvery DNPLab script will have at least one header row to import the DNPLab package. Importing DNPLab will also import other scripts (e.g. numpy, matplotlib, etc.) for internal use. You can also add other packages to be imported.\n\n"
      ]
    },
    {
      "cell_type": "code",
      "execution_count": null,
      "metadata": {
        "collapsed": false
      },
      "outputs": [],
      "source": [
        "# Import numpy as np\nimport dnplab as dnp"
      ]
    },
    {
      "cell_type": "markdown",
      "metadata": {},
      "source": [
        "## Import and Process Off-Signal\n\nThe next section demonstrates how a FID is imported into DNPLab (lines 35) and how a workspace is created (line 37). Many functions within DNPLab work by default on the processing buffer ('proc') and leave the raw data untouched. After importing, the data is first copied to the 'rawOff' buffer (line 38) and then the 'rawOff' buffer is copied to the 'proc' buffer (line 39).\nAfterwards the FID is processed, first by removing any DC offset (line 41), then a 15 Hz linewidth is applied (line 42) before performing the Fourier transformation (line 43). At the end the processed data in the 'proc' buffer is copied to a results buffer called 'offSignal' 9line 45).\n\n"
      ]
    },
    {
      "cell_type": "code",
      "execution_count": null,
      "metadata": {
        "collapsed": false
      },
      "outputs": [],
      "source": [
        "########## OFF Signal (P = 0 W) ##########\ndata = dnp.dnpImport.prospa.import_prospa('../data/prospa/10mM_TEMPO_Water/1Pulse_20200929/35/data.1d')\n\nws = dnp.create_workspace()\nws.add('rawOff',data)\nws.copy('rawOff','proc')\n\ndnp.dnpNMR.remove_offset(ws,{})\ndnp.dnpNMR.window(ws,{'linewidth' : 15})\ndnp.dnpNMR.fourier_transform(ws,{'zero_fill_factor' : 2})\n\nws.copy('proc','offSignal')"
      ]
    },
    {
      "cell_type": "markdown",
      "metadata": {},
      "source": [
        "## Import and Process ON-Signal\n\nImporting the on-signal involves the same steps as importing the off-signal. Once processed the data is copied to the results buffer 'onSignal'.\n\n"
      ]
    },
    {
      "cell_type": "code",
      "execution_count": null,
      "metadata": {
        "collapsed": false
      },
      "outputs": [],
      "source": [
        "########## ON Signal (P = 2 W) ##########\ndata = dnp.dnpImport.prospa.import_prospa('../data/prospa/10mM_TEMPO_Water/1Pulse_20200929/51/data.1d')\n\nws.add('rawOn',data)\nws.copy('rawOn')\n\ndnp.dnpNMR.remove_offset(ws,{})\ndnp.dnpNMR.window(ws,{'linewidth' : 15})\ndnp.dnpNMR.fourier_transform(ws,{'zero_fill_factor' : 2})\n\nws.copy('proc','onSignal')"
      ]
    },
    {
      "cell_type": "markdown",
      "metadata": {},
      "source": [
        "## Create a Figure and Plot On/Off Spectra\n\n\n########## Plot Spectra ##########\n\n"
      ]
    },
    {
      "cell_type": "code",
      "execution_count": null,
      "metadata": {
        "collapsed": false
      },
      "outputs": [],
      "source": [
        "dnp.dnpResults.figure()\ndnp.dnpResults.plot(ws['offSignal'].real * 10 - 100, label = 'Off Signal x 10')\ndnp.dnpResults.plot(ws['onSignal'].real, label = 'On Signal')\ndnp.dnpResults.xlim([30,-30])\ndnp.dnpResults.plt.xlabel('Chemical Shift [ppm]')\ndnp.dnpResults.plt.ylabel('Signal Amplitude [a.u.]')\ndnp.dnpResults.plt.title('DNP On/Off Signal, 10 mM TEMPO in Water')\ndnp.dnpResults.plt.legend()\ndnp.dnpResults.plt.grid(True)\ndnp.dnpResults.show()"
      ]
    }
  ],
  "metadata": {
    "kernelspec": {
      "display_name": "Python 3",
      "language": "python",
      "name": "python3"
    },
    "language_info": {
      "codemirror_mode": {
        "name": "ipython",
        "version": 3
      },
      "file_extension": ".py",
      "mimetype": "text/x-python",
      "name": "python",
      "nbconvert_exporter": "python",
      "pygments_lexer": "ipython3",
      "version": "3.7.7"
    }
  },
  "nbformat": 4,
  "nbformat_minor": 0
}